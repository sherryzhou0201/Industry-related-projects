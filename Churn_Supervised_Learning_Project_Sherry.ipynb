{
  "nbformat": 4,
  "nbformat_minor": 0,
  "metadata": {
    "colab": {
      "name": "Churn-Supervised Learning Project- Sherry.ipynb",
      "provenance": [],
      "collapsed_sections": [],
      "include_colab_link": true
    },
    "kernelspec": {
      "display_name": "Python 3",
      "language": "python",
      "name": "python3"
    }
  },
  "cells": [
    {
      "cell_type": "markdown",
      "metadata": {
        "id": "view-in-github",
        "colab_type": "text"
      },
      "source": [
        "<a href=\"https://colab.research.google.com/github/sherryzhou0201/machine-learning/blob/master/Churn_Supervised_Learning_Project_Sherry.ipynb\" target=\"_parent\"><img src=\"https://colab.research.google.com/assets/colab-badge.svg\" alt=\"Open In Colab\"/></a>"
      ]
    },
    {
      "cell_type": "markdown",
      "metadata": {
        "id": "R88Ms0MTi0Ma"
      },
      "source": [
        "# User Churn Prediction"
      ]
    },
    {
      "cell_type": "markdown",
      "metadata": {
        "id": "WA6lL1fni0Mb"
      },
      "source": [
        "This project uses supervised learning models to identify customers who are likely to stop using service in the future. Furthermore, we will analyze top factors that influence user retention.\n",
        "\n",
        "\n",
        "<li> data informaton\n",
        "https://www.kaggle.com/adammaus/predicting-churn-for-bank-customers\n",
        "\n",
        "\n",
        "Churn--subscribed before, but then the customers left.\n",
        "Ideally , we want to predict the customers who are going to churn. Then we can send some coupons/deals ,try to keep these customers. "
      ]
    },
    {
      "cell_type": "markdown",
      "metadata": {
        "id": "bO94-bXZi0Md"
      },
      "source": [
        "## Contents"
      ]
    },
    {
      "cell_type": "markdown",
      "metadata": {
        "id": "SIvRSRqAi0Md"
      },
      "source": [
        "<ul>\n",
        "\n",
        "<li>[Part 1: Data Exploration]\n",
        "<ol style=\"list-style-type: lower-alpha; padding-bottom: 0;\">\n",
        "  <li style=\"margin-left:2em\">Understand the raw data</li>\n",
        "  <li style=\"margin-left:2em; padding-bottom: 0;\">Understand the features</li>\n",
        "</ol>\n",
        "<li>[Part 2: Feature Preprocessing]\n",
        "<ol style=\"list-style-type: lower-alpha; padding-bottom: 0;\">\n",
        "  <li style=\"margin-left:2em\">Feature Encoding</li>\n",
        "  <li style=\"margin-left:2em; padding-bottom: 0;\">Feature Scaling</li>\n",
        "</ol>\n",
        "<li>[Part 3: Model Training and Results Evaluation]\n",
        "<ol style=\"list-style-type: lower-alpha; padding-bottom: 0;\">\n",
        "  <li style=\"margin-left:2em\">Splitting the data</li>\n",
        "  <li style=\"margin-left:2em; padding-bottom: 0;\">Model training and selection</li>\n",
        "  <li style=\"margin-left:2em\">Hyperparmeter tuning</li>\n",
        "  <li style=\"margin-left:2em; padding-bottom: 0;\">Model evaluation</li>\n",
        "</ol>\n",
        "<li>[Part 4: Feature Selection]\n",
        "</ul>"
      ]
    },
    {
      "cell_type": "markdown",
      "metadata": {
        "id": "TUoI2S7Bi6iR"
      },
      "source": [
        "# Part 0: Setup Google Drive Environment"
      ]
    },
    {
      "cell_type": "markdown",
      "metadata": {
        "id": "DjN-1HVox5FG"
      },
      "source": [
        "<li> Google drive was set up following the steps :\n",
        "\n",
        "https://towardsdatascience.com/3-ways-to-load-csv-files-into-colab-7c14fcbdcb92\n",
        "\n"
      ]
    },
    {
      "cell_type": "code",
      "metadata": {
        "id": "neechzbWi7rV"
      },
      "source": [
        "# method 1 install pydrive to load data\n",
        "!pip install -U -q PyDrive\n",
        "\n",
        "from pydrive.auth import GoogleAuth\n",
        "from pydrive.drive import GoogleDrive\n",
        "from google.colab import auth\n",
        "from oauth2client.client import GoogleCredentials\n",
        "\n",
        "auth.authenticate_user()\n",
        "gauth = GoogleAuth()\n",
        "gauth.credentials = GoogleCredentials.get_application_default()\n",
        "drive = GoogleDrive(gauth)"
      ],
      "execution_count": 1,
      "outputs": []
    },
    {
      "cell_type": "code",
      "metadata": {
        "id": "cqIRocGKsdIh",
        "outputId": "97fd84cc-618c-4ce2-f2e1-69d442f80414",
        "colab": {
          "base_uri": "https://localhost:8080/",
          "height": 51
        }
      },
      "source": [
        "link = 'https://drive.google.com/open?id=1R1Zt68U6aPw9OW9qWob2U41EX1YukG14'\n",
        "fluff, id = link.split('=')\n",
        "print(fluff)\n",
        "print(id)\n",
        "file=drive.CreateFile({'id':id})\n",
        "file.GetContentFile('bank_churn.csv')"
      ],
      "execution_count": 2,
      "outputs": [
        {
          "output_type": "stream",
          "text": [
            "https://drive.google.com/open?id\n",
            "1R1Zt68U6aPw9OW9qWob2U41EX1YukG14\n"
          ],
          "name": "stdout"
        }
      ]
    },
    {
      "cell_type": "markdown",
      "metadata": {
        "id": "_fdwbyOE4px9"
      },
      "source": [
        "# Part 1: Data Exploration\n"
      ]
    },
    {
      "cell_type": "markdown",
      "metadata": {
        "id": "9x6TCHUg4w0s"
      },
      "source": [
        "### Part 1.1: Understand the Raw Dataset"
      ]
    },
    {
      "cell_type": "markdown",
      "metadata": {
        "id": "yY_SD9cQZwxe"
      },
      "source": [
        "This data set only includes 1M records, which is relatively small. If the data are larger, I will suggest to use pyspark. However for this project, only pandas dataframe was used.\n",
        "\n",
        "In this data, the output is Existed (Churn), and we want to build a model to see if we can predict cutomer's Churn behavior."
      ]
    },
    {
      "cell_type": "code",
      "metadata": {
        "id": "nK7A1qhYSDxM",
        "outputId": "3051b445-3b37-4cb8-e866-247c8508a68e",
        "colab": {
          "base_uri": "https://localhost:8080/",
          "height": 374
        }
      },
      "source": [
        "import pandas as pd\n",
        "\n",
        "churn_df = pd.read_csv('bank_churn.csv')\n",
        "churn_df.info() \n",
        "# it looks like there is no missing data , but I need to see the actuall data to make sure \n",
        "# 10000*14 data"
      ],
      "execution_count": 3,
      "outputs": [
        {
          "output_type": "stream",
          "text": [
            "<class 'pandas.core.frame.DataFrame'>\n",
            "RangeIndex: 10000 entries, 0 to 9999\n",
            "Data columns (total 14 columns):\n",
            " #   Column           Non-Null Count  Dtype  \n",
            "---  ------           --------------  -----  \n",
            " 0   RowNumber        10000 non-null  int64  \n",
            " 1   CustomerId       10000 non-null  int64  \n",
            " 2   Surname          10000 non-null  object \n",
            " 3   CreditScore      10000 non-null  int64  \n",
            " 4   Geography        10000 non-null  object \n",
            " 5   Gender           10000 non-null  object \n",
            " 6   Age              10000 non-null  int64  \n",
            " 7   Tenure           10000 non-null  int64  \n",
            " 8   Balance          10000 non-null  float64\n",
            " 9   NumOfProducts    10000 non-null  int64  \n",
            " 10  HasCrCard        10000 non-null  int64  \n",
            " 11  IsActiveMember   10000 non-null  int64  \n",
            " 12  EstimatedSalary  10000 non-null  float64\n",
            " 13  Exited           10000 non-null  int64  \n",
            "dtypes: float64(2), int64(9), object(3)\n",
            "memory usage: 1.1+ MB\n"
          ],
          "name": "stdout"
        }
      ]
    },
    {
      "cell_type": "code",
      "metadata": {
        "id": "clASlRyP1haj",
        "outputId": "565a566f-aa99-4781-e7f0-8203ed5e1f77",
        "colab": {
          "base_uri": "https://localhost:8080/",
          "height": 224
        }
      },
      "source": [
        "churn_df.head() "
      ],
      "execution_count": 4,
      "outputs": [
        {
          "output_type": "execute_result",
          "data": {
            "text/html": [
              "<div>\n",
              "<style scoped>\n",
              "    .dataframe tbody tr th:only-of-type {\n",
              "        vertical-align: middle;\n",
              "    }\n",
              "\n",
              "    .dataframe tbody tr th {\n",
              "        vertical-align: top;\n",
              "    }\n",
              "\n",
              "    .dataframe thead th {\n",
              "        text-align: right;\n",
              "    }\n",
              "</style>\n",
              "<table border=\"1\" class=\"dataframe\">\n",
              "  <thead>\n",
              "    <tr style=\"text-align: right;\">\n",
              "      <th></th>\n",
              "      <th>RowNumber</th>\n",
              "      <th>CustomerId</th>\n",
              "      <th>Surname</th>\n",
              "      <th>CreditScore</th>\n",
              "      <th>Geography</th>\n",
              "      <th>Gender</th>\n",
              "      <th>Age</th>\n",
              "      <th>Tenure</th>\n",
              "      <th>Balance</th>\n",
              "      <th>NumOfProducts</th>\n",
              "      <th>HasCrCard</th>\n",
              "      <th>IsActiveMember</th>\n",
              "      <th>EstimatedSalary</th>\n",
              "      <th>Exited</th>\n",
              "    </tr>\n",
              "  </thead>\n",
              "  <tbody>\n",
              "    <tr>\n",
              "      <th>0</th>\n",
              "      <td>1</td>\n",
              "      <td>15634602</td>\n",
              "      <td>Hargrave</td>\n",
              "      <td>619</td>\n",
              "      <td>France</td>\n",
              "      <td>Female</td>\n",
              "      <td>42</td>\n",
              "      <td>2</td>\n",
              "      <td>0.00</td>\n",
              "      <td>1</td>\n",
              "      <td>1</td>\n",
              "      <td>1</td>\n",
              "      <td>101348.88</td>\n",
              "      <td>1</td>\n",
              "    </tr>\n",
              "    <tr>\n",
              "      <th>1</th>\n",
              "      <td>2</td>\n",
              "      <td>15647311</td>\n",
              "      <td>Hill</td>\n",
              "      <td>608</td>\n",
              "      <td>Spain</td>\n",
              "      <td>Female</td>\n",
              "      <td>41</td>\n",
              "      <td>1</td>\n",
              "      <td>83807.86</td>\n",
              "      <td>1</td>\n",
              "      <td>0</td>\n",
              "      <td>1</td>\n",
              "      <td>112542.58</td>\n",
              "      <td>0</td>\n",
              "    </tr>\n",
              "    <tr>\n",
              "      <th>2</th>\n",
              "      <td>3</td>\n",
              "      <td>15619304</td>\n",
              "      <td>Onio</td>\n",
              "      <td>502</td>\n",
              "      <td>France</td>\n",
              "      <td>Female</td>\n",
              "      <td>42</td>\n",
              "      <td>8</td>\n",
              "      <td>159660.80</td>\n",
              "      <td>3</td>\n",
              "      <td>1</td>\n",
              "      <td>0</td>\n",
              "      <td>113931.57</td>\n",
              "      <td>1</td>\n",
              "    </tr>\n",
              "    <tr>\n",
              "      <th>3</th>\n",
              "      <td>4</td>\n",
              "      <td>15701354</td>\n",
              "      <td>Boni</td>\n",
              "      <td>699</td>\n",
              "      <td>France</td>\n",
              "      <td>Female</td>\n",
              "      <td>39</td>\n",
              "      <td>1</td>\n",
              "      <td>0.00</td>\n",
              "      <td>2</td>\n",
              "      <td>0</td>\n",
              "      <td>0</td>\n",
              "      <td>93826.63</td>\n",
              "      <td>0</td>\n",
              "    </tr>\n",
              "    <tr>\n",
              "      <th>4</th>\n",
              "      <td>5</td>\n",
              "      <td>15737888</td>\n",
              "      <td>Mitchell</td>\n",
              "      <td>850</td>\n",
              "      <td>Spain</td>\n",
              "      <td>Female</td>\n",
              "      <td>43</td>\n",
              "      <td>2</td>\n",
              "      <td>125510.82</td>\n",
              "      <td>1</td>\n",
              "      <td>1</td>\n",
              "      <td>1</td>\n",
              "      <td>79084.10</td>\n",
              "      <td>0</td>\n",
              "    </tr>\n",
              "  </tbody>\n",
              "</table>\n",
              "</div>"
            ],
            "text/plain": [
              "   RowNumber  CustomerId   Surname  ...  IsActiveMember EstimatedSalary Exited\n",
              "0          1    15634602  Hargrave  ...               1       101348.88      1\n",
              "1          2    15647311      Hill  ...               1       112542.58      0\n",
              "2          3    15619304      Onio  ...               0       113931.57      1\n",
              "3          4    15701354      Boni  ...               0        93826.63      0\n",
              "4          5    15737888  Mitchell  ...               1        79084.10      0\n",
              "\n",
              "[5 rows x 14 columns]"
            ]
          },
          "metadata": {
            "tags": []
          },
          "execution_count": 4
        }
      ]
    },
    {
      "cell_type": "code",
      "metadata": {
        "id": "SoVBr4lK1uEe",
        "outputId": "931e13e9-bbde-4e6c-a6ed-e34d201663a4",
        "colab": {
          "base_uri": "https://localhost:8080/",
          "height": 272
        }
      },
      "source": [
        "# check the # of unique values for each column, have a brief idea if the data makes sense\n",
        "churn_df.nunique()"
      ],
      "execution_count": 5,
      "outputs": [
        {
          "output_type": "execute_result",
          "data": {
            "text/plain": [
              "RowNumber          10000\n",
              "CustomerId         10000\n",
              "Surname             2932\n",
              "CreditScore          460\n",
              "Geography              3\n",
              "Gender                 2\n",
              "Age                   70\n",
              "Tenure                11\n",
              "Balance             6382\n",
              "NumOfProducts          4\n",
              "HasCrCard              2\n",
              "IsActiveMember         2\n",
              "EstimatedSalary     9999\n",
              "Exited                 2\n",
              "dtype: int64"
            ]
          },
          "metadata": {
            "tags": []
          },
          "execution_count": 5
        }
      ]
    },
    {
      "cell_type": "code",
      "metadata": {
        "id": "8JYzvoFib9XN",
        "outputId": "4fe554de-edc7-4efa-ec1e-812abeeef610",
        "colab": {
          "base_uri": "https://localhost:8080/",
          "height": 85
        }
      },
      "source": [
        "# check the basic info about our output ('Exited'-churn) variable\n",
        "churn_df.groupby(churn_df['Exited']).size() \n",
        "# it is a little bit disproportional, but. not very extreme. \n",
        "# However, since the prop to stay is almost 80% if we just assume every client get the answer 0\n",
        "# we need to be carefull to pick the correct evaluation critera when we try to measure the performance of our model."
      ],
      "execution_count": 6,
      "outputs": [
        {
          "output_type": "execute_result",
          "data": {
            "text/plain": [
              "Exited\n",
              "0    7963\n",
              "1    2037\n",
              "dtype: int64"
            ]
          },
          "metadata": {
            "tags": []
          },
          "execution_count": 6
        }
      ]
    },
    {
      "cell_type": "markdown",
      "metadata": {
        "id": "SsAbAjhvi0Mx"
      },
      "source": [
        "### Part 1.2:  Understand the features"
      ]
    },
    {
      "cell_type": "markdown",
      "metadata": {
        "id": "G0pDh9mmeV9c"
      },
      "source": [
        "By looking at the raw data set above, I separate the possible features into two groups, continuous and cateogrial and check them separately to get a better data intuition of this features."
      ]
    },
    {
      "cell_type": "code",
      "metadata": {
        "scrolled": true,
        "id": "hHNZRs2Ti0Mi",
        "outputId": "7e3b055c-14b1-49c2-e6d1-18bade170914",
        "colab": {
          "base_uri": "https://localhost:8080/",
          "height": 297
        }
      },
      "source": [
        "# understand the numerical features\n",
        "churn_df[['CreditScore','Age','Tenure','NumOfProducts','Balance','EstimatedSalary']].describe()  "
      ],
      "execution_count": 7,
      "outputs": [
        {
          "output_type": "execute_result",
          "data": {
            "text/html": [
              "<div>\n",
              "<style scoped>\n",
              "    .dataframe tbody tr th:only-of-type {\n",
              "        vertical-align: middle;\n",
              "    }\n",
              "\n",
              "    .dataframe tbody tr th {\n",
              "        vertical-align: top;\n",
              "    }\n",
              "\n",
              "    .dataframe thead th {\n",
              "        text-align: right;\n",
              "    }\n",
              "</style>\n",
              "<table border=\"1\" class=\"dataframe\">\n",
              "  <thead>\n",
              "    <tr style=\"text-align: right;\">\n",
              "      <th></th>\n",
              "      <th>CreditScore</th>\n",
              "      <th>Age</th>\n",
              "      <th>Tenure</th>\n",
              "      <th>NumOfProducts</th>\n",
              "      <th>Balance</th>\n",
              "      <th>EstimatedSalary</th>\n",
              "    </tr>\n",
              "  </thead>\n",
              "  <tbody>\n",
              "    <tr>\n",
              "      <th>count</th>\n",
              "      <td>10000.000000</td>\n",
              "      <td>10000.000000</td>\n",
              "      <td>10000.000000</td>\n",
              "      <td>10000.000000</td>\n",
              "      <td>10000.000000</td>\n",
              "      <td>10000.000000</td>\n",
              "    </tr>\n",
              "    <tr>\n",
              "      <th>mean</th>\n",
              "      <td>650.528800</td>\n",
              "      <td>38.921800</td>\n",
              "      <td>5.012800</td>\n",
              "      <td>1.530200</td>\n",
              "      <td>76485.889288</td>\n",
              "      <td>100090.239881</td>\n",
              "    </tr>\n",
              "    <tr>\n",
              "      <th>std</th>\n",
              "      <td>96.653299</td>\n",
              "      <td>10.487806</td>\n",
              "      <td>2.892174</td>\n",
              "      <td>0.581654</td>\n",
              "      <td>62397.405202</td>\n",
              "      <td>57510.492818</td>\n",
              "    </tr>\n",
              "    <tr>\n",
              "      <th>min</th>\n",
              "      <td>350.000000</td>\n",
              "      <td>18.000000</td>\n",
              "      <td>0.000000</td>\n",
              "      <td>1.000000</td>\n",
              "      <td>0.000000</td>\n",
              "      <td>11.580000</td>\n",
              "    </tr>\n",
              "    <tr>\n",
              "      <th>25%</th>\n",
              "      <td>584.000000</td>\n",
              "      <td>32.000000</td>\n",
              "      <td>3.000000</td>\n",
              "      <td>1.000000</td>\n",
              "      <td>0.000000</td>\n",
              "      <td>51002.110000</td>\n",
              "    </tr>\n",
              "    <tr>\n",
              "      <th>50%</th>\n",
              "      <td>652.000000</td>\n",
              "      <td>37.000000</td>\n",
              "      <td>5.000000</td>\n",
              "      <td>1.000000</td>\n",
              "      <td>97198.540000</td>\n",
              "      <td>100193.915000</td>\n",
              "    </tr>\n",
              "    <tr>\n",
              "      <th>75%</th>\n",
              "      <td>718.000000</td>\n",
              "      <td>44.000000</td>\n",
              "      <td>7.000000</td>\n",
              "      <td>2.000000</td>\n",
              "      <td>127644.240000</td>\n",
              "      <td>149388.247500</td>\n",
              "    </tr>\n",
              "    <tr>\n",
              "      <th>max</th>\n",
              "      <td>850.000000</td>\n",
              "      <td>92.000000</td>\n",
              "      <td>10.000000</td>\n",
              "      <td>4.000000</td>\n",
              "      <td>250898.090000</td>\n",
              "      <td>199992.480000</td>\n",
              "    </tr>\n",
              "  </tbody>\n",
              "</table>\n",
              "</div>"
            ],
            "text/plain": [
              "        CreditScore           Age  ...        Balance  EstimatedSalary\n",
              "count  10000.000000  10000.000000  ...   10000.000000     10000.000000\n",
              "mean     650.528800     38.921800  ...   76485.889288    100090.239881\n",
              "std       96.653299     10.487806  ...   62397.405202     57510.492818\n",
              "min      350.000000     18.000000  ...       0.000000        11.580000\n",
              "25%      584.000000     32.000000  ...       0.000000     51002.110000\n",
              "50%      652.000000     37.000000  ...   97198.540000    100193.915000\n",
              "75%      718.000000     44.000000  ...  127644.240000    149388.247500\n",
              "max      850.000000     92.000000  ...  250898.090000    199992.480000\n",
              "\n",
              "[8 rows x 6 columns]"
            ]
          },
          "metadata": {
            "tags": []
          },
          "execution_count": 7
        }
      ]
    },
    {
      "cell_type": "code",
      "metadata": {
        "scrolled": false,
        "id": "rJ0AdxwLi0Mz"
      },
      "source": [
        "# check the feature distribution using plots\n",
        "# do boxplot, countplot\n",
        "import matplotlib.pyplot as plt # useful for subplots\n",
        "import seaborn as sns "
      ],
      "execution_count": 8,
      "outputs": []
    },
    {
      "cell_type": "code",
      "metadata": {
        "id": "plvltm5RLPjN",
        "outputId": "e6b9365e-7df9-466d-8b85-364eee20b966",
        "colab": {
          "base_uri": "https://localhost:8080/",
          "height": 668
        }
      },
      "source": [
        "# boxplot for numerical features, in this part, we do the plots for churn and not churned clients separately.\n",
        "fig,axss=plt.subplots(2,3,figsize=[20,10]) # from matplotlib.pyplot\n",
        "sns.boxplot(x='Exited',y='CreditScore',data=churn_df,ax=axss[0][0])\n",
        "sns.boxplot(x='Exited',y='Age',data=churn_df,ax=axss[0][1])\n",
        "sns.boxplot(x='Exited',y='Tenure',data=churn_df,ax=axss[0][2])\n",
        "sns.boxplot(x='Exited',y='NumOfProducts',data=churn_df,ax=axss[1][0])\n",
        "sns.boxplot(x='Exited',y='Balance',data=churn_df,ax=axss[1][1])\n",
        "sns.boxplot(x='Exited',y='EstimatedSalary',data=churn_df,ax=axss[1][2])\n",
        "\n",
        "fig.suptitle(\"Boxplots for numerical features for current/existed customers\",fontsize=20)"
      ],
      "execution_count": 9,
      "outputs": [
        {
          "output_type": "execute_result",
          "data": {
            "text/plain": [
              "Text(0.5, 0.98, 'Boxplots for numerical features for current/existed customers')"
            ]
          },
          "metadata": {
            "tags": []
          },
          "execution_count": 9
        },
        {
          "output_type": "display_data",
          "data": {
            "image/png": "[encoded data removed]",
            "text/plain": [
              "<Figure size 1440x720 with 6 Axes>"
            ]
          },
          "metadata": {
            "tags": [],
            "needs_background": "light"
          }
        }
      ]
    },
    {
      "cell_type": "markdown",
      "metadata": {
        "id": "TOaQfx0ShE6p"
      },
      "source": [
        "Most of the numerica features seem to be reasonable. \n",
        "There are two things I noticed:\n",
        "1) Some variables have already shown the difference between current and churned cliens, such as age,tenure and balance. I will keep an eye on that for the furthur analysis.\n",
        "2) there are a few outliers for the age-0 group. The total amount of outliers are 2.8% (see cell below). Currently I still think it makes sense from a business point and we should still keep these data. "
      ]
    },
    {
      "cell_type": "code",
      "metadata": {
        "id": "OmKJAMUThuI9",
        "outputId": "56696f5f-3146-49c9-9b00-b74ac4b9f51f",
        "colab": {
          "base_uri": "https://localhost:8080/",
          "height": 34
        }
      },
      "source": [
        "age_outlier=churn_df[(churn_df['Exited']==0 )&(churn_df['Age']>62)]\n",
        "# 44+(44-32)*1.5=62\n",
        "age_outlier.shape # 2.8% of the data"
      ],
      "execution_count": 10,
      "outputs": [
        {
          "output_type": "execute_result",
          "data": {
            "text/plain": [
              "(286, 14)"
            ]
          },
          "metadata": {
            "tags": []
          },
          "execution_count": 10
        }
      ]
    },
    {
      "cell_type": "code",
      "metadata": {
        "id": "8nAnJLVok40d",
        "outputId": "cf3342e7-5d6b-4d60-d3e4-ee82f836a620",
        "colab": {
          "base_uri": "https://localhost:8080/",
          "height": 235
        }
      },
      "source": [
        "# correlations between all numerical features\n",
        "corr = churn_df[['CreditScore','Age','Tenure','NumOfProducts','Balance','EstimatedSalary']].corr()\n",
        "corr.round(2)"
      ],
      "execution_count": 11,
      "outputs": [
        {
          "output_type": "execute_result",
          "data": {
            "text/html": [
              "<div>\n",
              "<style scoped>\n",
              "    .dataframe tbody tr th:only-of-type {\n",
              "        vertical-align: middle;\n",
              "    }\n",
              "\n",
              "    .dataframe tbody tr th {\n",
              "        vertical-align: top;\n",
              "    }\n",
              "\n",
              "    .dataframe thead th {\n",
              "        text-align: right;\n",
              "    }\n",
              "</style>\n",
              "<table border=\"1\" class=\"dataframe\">\n",
              "  <thead>\n",
              "    <tr style=\"text-align: right;\">\n",
              "      <th></th>\n",
              "      <th>CreditScore</th>\n",
              "      <th>Age</th>\n",
              "      <th>Tenure</th>\n",
              "      <th>NumOfProducts</th>\n",
              "      <th>Balance</th>\n",
              "      <th>EstimatedSalary</th>\n",
              "    </tr>\n",
              "  </thead>\n",
              "  <tbody>\n",
              "    <tr>\n",
              "      <th>CreditScore</th>\n",
              "      <td>1.00</td>\n",
              "      <td>-0.00</td>\n",
              "      <td>0.00</td>\n",
              "      <td>0.01</td>\n",
              "      <td>0.01</td>\n",
              "      <td>-0.00</td>\n",
              "    </tr>\n",
              "    <tr>\n",
              "      <th>Age</th>\n",
              "      <td>-0.00</td>\n",
              "      <td>1.00</td>\n",
              "      <td>-0.01</td>\n",
              "      <td>-0.03</td>\n",
              "      <td>0.03</td>\n",
              "      <td>-0.01</td>\n",
              "    </tr>\n",
              "    <tr>\n",
              "      <th>Tenure</th>\n",
              "      <td>0.00</td>\n",
              "      <td>-0.01</td>\n",
              "      <td>1.00</td>\n",
              "      <td>0.01</td>\n",
              "      <td>-0.01</td>\n",
              "      <td>0.01</td>\n",
              "    </tr>\n",
              "    <tr>\n",
              "      <th>NumOfProducts</th>\n",
              "      <td>0.01</td>\n",
              "      <td>-0.03</td>\n",
              "      <td>0.01</td>\n",
              "      <td>1.00</td>\n",
              "      <td>-0.30</td>\n",
              "      <td>0.01</td>\n",
              "    </tr>\n",
              "    <tr>\n",
              "      <th>Balance</th>\n",
              "      <td>0.01</td>\n",
              "      <td>0.03</td>\n",
              "      <td>-0.01</td>\n",
              "      <td>-0.30</td>\n",
              "      <td>1.00</td>\n",
              "      <td>0.01</td>\n",
              "    </tr>\n",
              "    <tr>\n",
              "      <th>EstimatedSalary</th>\n",
              "      <td>-0.00</td>\n",
              "      <td>-0.01</td>\n",
              "      <td>0.01</td>\n",
              "      <td>0.01</td>\n",
              "      <td>0.01</td>\n",
              "      <td>1.00</td>\n",
              "    </tr>\n",
              "  </tbody>\n",
              "</table>\n",
              "</div>"
            ],
            "text/plain": [
              "                 CreditScore   Age  ...  Balance  EstimatedSalary\n",
              "CreditScore             1.00 -0.00  ...     0.01            -0.00\n",
              "Age                    -0.00  1.00  ...     0.03            -0.01\n",
              "Tenure                  0.00 -0.01  ...    -0.01             0.01\n",
              "NumOfProducts           0.01 -0.03  ...    -0.30             0.01\n",
              "Balance                 0.01  0.03  ...     1.00             0.01\n",
              "EstimatedSalary        -0.00 -0.01  ...     0.01             1.00\n",
              "\n",
              "[6 rows x 6 columns]"
            ]
          },
          "metadata": {
            "tags": []
          },
          "execution_count": 11
        }
      ]
    },
    {
      "cell_type": "code",
      "metadata": {
        "id": "0_g76FRglBu2",
        "outputId": "354b8b89-bfb2-46c5-b69b-fa71d0fdbfd6",
        "colab": {
          "base_uri": "https://localhost:8080/",
          "height": 358
        }
      },
      "source": [
        "# show heapmap of correlations\n",
        "sns.heatmap(corr)"
      ],
      "execution_count": 12,
      "outputs": [
        {
          "output_type": "execute_result",
          "data": {
            "text/plain": [
              "<matplotlib.axes._subplots.AxesSubplot at 0x7f6d200c4a20>"
            ]
          },
          "metadata": {
            "tags": []
          },
          "execution_count": 12
        },
        {
          "output_type": "display_data",
          "data": {
            "image/png": "[encoded data removed]",
            "text/plain": [
              "<Figure size 432x288 with 2 Axes>"
            ]
          },
          "metadata": {
            "tags": [],
            "needs_background": "light"
          }
        }
      ]
    },
    {
      "cell_type": "markdown",
      "metadata": {
        "id": "O7qQJeUnlNSS"
      },
      "source": [
        "here, only the correaltion between balance and NumofProduct stands out. Whether it matters will depend on what model I choose in the furthur analysis. If it is regression, then we probably need to either use regularization term/drop certain features to avoid multicolinnearity. However, if I choose tree models, such as Random Forest, then it does not matter."
      ]
    },
    {
      "cell_type": "code",
      "metadata": {
        "id": "1Iww9YwxLPNY",
        "outputId": "b100f64f-f0d8-44bf-f5f2-56c1a1a1bbc3",
        "colab": {
          "base_uri": "https://localhost:8080/",
          "height": 597
        }
      },
      "source": [
        "# undersatnd categorical features\n",
        "figure,axss=plt.subplots(2,2,figsize=[20,10])\n",
        "# hue -- levels to plot the levels in -- for cateogrical variables. similar to color= varaible in R\n",
        "sns.countplot(x=\"Exited\",hue='Geography',data=churn_df,ax=axss[0][0])\n",
        "sns.countplot(x='Exited',hue='Gender',data=churn_df,ax=axss[0][1])\n",
        "sns.countplot(x='Exited',hue='HasCrCard',data=churn_df,ax=axss[1][0])\n",
        "sns.countplot(x='Exited',hue='IsActiveMember',data=churn_df,ax=axss[1][1])"
      ],
      "execution_count": 13,
      "outputs": [
        {
          "output_type": "execute_result",
          "data": {
            "text/plain": [
              "<matplotlib.axes._subplots.AxesSubplot at 0x7f6d1c0193c8>"
            ]
          },
          "metadata": {
            "tags": []
          },
          "execution_count": 13
        },
        {
          "output_type": "display_data",
          "data": {
            "image/png": "[encoded data removed]",
            "text/plain": [
              "<Figure size 1440x720 with 4 Axes>"
            ]
          },
          "metadata": {
            "tags": [],
            "needs_background": "light"
          }
        }
      ]
    },
    {
      "cell_type": "markdown",
      "metadata": {
        "id": "nchlYvWnjthK"
      },
      "source": [
        "I did plots this way but I will try to be very carefull if I want to present them to my clients.\n",
        "First, the proportion of Exited==0 and Exited==1 is like 3:1. So it is easy for clients to focus too much on the height difference between 0 and 1, rather than focus on the patterns within gorup0 and group1.\n",
        "Here, I can see that the pattern is similar for both groups regarding to the variable 'HasCrCard'. For the other categorical variables, group0 and group1 seem to have different patterns."
      ]
    },
    {
      "cell_type": "markdown",
      "metadata": {
        "id": "aFa4d6t3i0NH"
      },
      "source": [
        "# Part 2: Feature Preprocessing\n",
        "\n",
        "I found these following websites very useful:\n",
        "https://github.com/scikit-learn-contrib/categorical-encoding\n",
        "\n",
        "package for encoding:\n",
        "https://contrib.scikit-learn.org/categorical-encoding/#category-encoders\n"
      ]
    },
    {
      "cell_type": "markdown",
      "metadata": {
        "id": "ifDA0BEtmN-f"
      },
      "source": [
        "### Part 2.1: Feature encoding "
      ]
    },
    {
      "cell_type": "code",
      "metadata": {
        "id": "wtjI61m6i0M8"
      },
      "source": [
        "# change binary to boolean\n",
        "churn_df['Gender']=churn_df['Gender']=='Female'\n",
        "# if it Female, then True, o.w. then False\n",
        "\n",
        "# one hot encoding\n",
        "# change polynomous data to a bunch of T/F \n",
        "churn_df=pd.get_dummies(churn_df,columns=[\"Geography\"])"
      ],
      "execution_count": 14,
      "outputs": []
    },
    {
      "cell_type": "code",
      "metadata": {
        "scrolled": true,
        "id": "pxtf6XoJi0NI",
        "outputId": "11d66361-1c03-4bc1-dbaa-e19156bc2a9c",
        "colab": {
          "base_uri": "https://localhost:8080/",
          "height": 224
        }
      },
      "source": [
        "# make sure one hot encoding is working \n",
        "churn_df.head()"
      ],
      "execution_count": 15,
      "outputs": [
        {
          "output_type": "execute_result",
          "data": {
            "text/html": [
              "<div>\n",
              "<style scoped>\n",
              "    .dataframe tbody tr th:only-of-type {\n",
              "        vertical-align: middle;\n",
              "    }\n",
              "\n",
              "    .dataframe tbody tr th {\n",
              "        vertical-align: top;\n",
              "    }\n",
              "\n",
              "    .dataframe thead th {\n",
              "        text-align: right;\n",
              "    }\n",
              "</style>\n",
              "<table border=\"1\" class=\"dataframe\">\n",
              "  <thead>\n",
              "    <tr style=\"text-align: right;\">\n",
              "      <th></th>\n",
              "      <th>RowNumber</th>\n",
              "      <th>CustomerId</th>\n",
              "      <th>Surname</th>\n",
              "      <th>CreditScore</th>\n",
              "      <th>Gender</th>\n",
              "      <th>Age</th>\n",
              "      <th>Tenure</th>\n",
              "      <th>Balance</th>\n",
              "      <th>NumOfProducts</th>\n",
              "      <th>HasCrCard</th>\n",
              "      <th>IsActiveMember</th>\n",
              "      <th>EstimatedSalary</th>\n",
              "      <th>Exited</th>\n",
              "      <th>Geography_France</th>\n",
              "      <th>Geography_Germany</th>\n",
              "      <th>Geography_Spain</th>\n",
              "    </tr>\n",
              "  </thead>\n",
              "  <tbody>\n",
              "    <tr>\n",
              "      <th>0</th>\n",
              "      <td>1</td>\n",
              "      <td>15634602</td>\n",
              "      <td>Hargrave</td>\n",
              "      <td>619</td>\n",
              "      <td>True</td>\n",
              "      <td>42</td>\n",
              "      <td>2</td>\n",
              "      <td>0.00</td>\n",
              "      <td>1</td>\n",
              "      <td>1</td>\n",
              "      <td>1</td>\n",
              "      <td>101348.88</td>\n",
              "      <td>1</td>\n",
              "      <td>1</td>\n",
              "      <td>0</td>\n",
              "      <td>0</td>\n",
              "    </tr>\n",
              "    <tr>\n",
              "      <th>1</th>\n",
              "      <td>2</td>\n",
              "      <td>15647311</td>\n",
              "      <td>Hill</td>\n",
              "      <td>608</td>\n",
              "      <td>True</td>\n",
              "      <td>41</td>\n",
              "      <td>1</td>\n",
              "      <td>83807.86</td>\n",
              "      <td>1</td>\n",
              "      <td>0</td>\n",
              "      <td>1</td>\n",
              "      <td>112542.58</td>\n",
              "      <td>0</td>\n",
              "      <td>0</td>\n",
              "      <td>0</td>\n",
              "      <td>1</td>\n",
              "    </tr>\n",
              "    <tr>\n",
              "      <th>2</th>\n",
              "      <td>3</td>\n",
              "      <td>15619304</td>\n",
              "      <td>Onio</td>\n",
              "      <td>502</td>\n",
              "      <td>True</td>\n",
              "      <td>42</td>\n",
              "      <td>8</td>\n",
              "      <td>159660.80</td>\n",
              "      <td>3</td>\n",
              "      <td>1</td>\n",
              "      <td>0</td>\n",
              "      <td>113931.57</td>\n",
              "      <td>1</td>\n",
              "      <td>1</td>\n",
              "      <td>0</td>\n",
              "      <td>0</td>\n",
              "    </tr>\n",
              "    <tr>\n",
              "      <th>3</th>\n",
              "      <td>4</td>\n",
              "      <td>15701354</td>\n",
              "      <td>Boni</td>\n",
              "      <td>699</td>\n",
              "      <td>True</td>\n",
              "      <td>39</td>\n",
              "      <td>1</td>\n",
              "      <td>0.00</td>\n",
              "      <td>2</td>\n",
              "      <td>0</td>\n",
              "      <td>0</td>\n",
              "      <td>93826.63</td>\n",
              "      <td>0</td>\n",
              "      <td>1</td>\n",
              "      <td>0</td>\n",
              "      <td>0</td>\n",
              "    </tr>\n",
              "    <tr>\n",
              "      <th>4</th>\n",
              "      <td>5</td>\n",
              "      <td>15737888</td>\n",
              "      <td>Mitchell</td>\n",
              "      <td>850</td>\n",
              "      <td>True</td>\n",
              "      <td>43</td>\n",
              "      <td>2</td>\n",
              "      <td>125510.82</td>\n",
              "      <td>1</td>\n",
              "      <td>1</td>\n",
              "      <td>1</td>\n",
              "      <td>79084.10</td>\n",
              "      <td>0</td>\n",
              "      <td>0</td>\n",
              "      <td>0</td>\n",
              "      <td>1</td>\n",
              "    </tr>\n",
              "  </tbody>\n",
              "</table>\n",
              "</div>"
            ],
            "text/plain": [
              "   RowNumber  CustomerId  ... Geography_Germany  Geography_Spain\n",
              "0          1    15634602  ...                 0                0\n",
              "1          2    15647311  ...                 0                1\n",
              "2          3    15619304  ...                 0                0\n",
              "3          4    15701354  ...                 0                0\n",
              "4          5    15737888  ...                 0                1\n",
              "\n",
              "[5 rows x 16 columns]"
            ]
          },
          "metadata": {
            "tags": []
          },
          "execution_count": 15
        }
      ]
    },
    {
      "cell_type": "code",
      "metadata": {
        "id": "4ec5r_Qdi0NL"
      },
      "source": [
        "# drop useless features\n",
        "to_drop=['RowNumber','CustomerId','Surname','Exited']\n",
        "\n",
        "# separte features and output\n",
        "X=churn_df.drop(to_drop,axis=1)\n",
        "y=churn_df['Exited']"
      ],
      "execution_count": 16,
      "outputs": []
    },
    {
      "cell_type": "markdown",
      "metadata": {
        "id": "bzhKyBxamngY"
      },
      "source": [
        "### Part 2.1: Feature scaling \n",
        "This part belongs to data preprocessing .However, since wheather to scale the features also depends on what models we are planning to use. I decide to combine this part with the models in Part 3. \n",
        "\n",
        "The rule of thumb for scaling is : for the models that requires to compute distance or assumes normality, we should scale the features.\n",
        "The common models we use that requires feature scaling are :\n",
        "1) KNN -- Euclidean distance , sensistive to magnitudes\n",
        "2) PCA -- get the features with maximum variance and the variance is hihg for high magnitude features. This skws the PCA towars high magnitude features\n",
        "3) Gradient descent -- scaling can speed up the gradient desent procedure, because theta will descend quickly on small ranges and slowly on large ranges.\n",
        "\n",
        "\n",
        "The ones usually do not require scaling:\n",
        "1) Tree based models\n",
        "2) Linear Discriminant Analysis (LDA) , Naive Bayes: by design, they will gives weights to the features accordingly, so no need to scale. \n",
        "\n",
        "\n",
        "Common Scaling: \n",
        "1) standardization\n",
        "2) mean normalisation: (x-mean(x))/(max(x)-min(X))\n",
        "-- 1) 2) zero centric : e.g. for PCA\n",
        "3) min-max scaling :(x-min(x))/(max(x)-min(x))\n",
        "4) unit vector x/||x||\n",
        "-- 3) 4) provide values between [0,1] -usefull for handling data with hard boundaries, such as image date (colors code [0,255])"
      ]
    },
    {
      "cell_type": "markdown",
      "metadata": {
        "id": "q3x9ySX_i0Nd"
      },
      "source": [
        "# Part 3: Model Training and Result Evaluation"
      ]
    },
    {
      "cell_type": "markdown",
      "metadata": {
        "id": "77OjmSl9i0Nf"
      },
      "source": [
        "### Part 3.1: Prepare the dataset for Machine Learning Models"
      ]
    },
    {
      "cell_type": "code",
      "metadata": {
        "id": "Uay8Md5li0Nh",
        "outputId": "492fa2c2-96af-4c00-ff7f-067cec855257",
        "colab": {
          "base_uri": "https://localhost:8080/",
          "height": 51
        }
      },
      "source": [
        "# Split data into training and testing\n",
        "from sklearn import model_selection\n",
        "\n",
        "# Reserve 20% for testing, this just follows a common 80-20 rule.\n",
        "# the porportion of testing can change depends on the actual project\n",
        "X_train, X_test, y_train, y_test = model_selection.train_test_split(X, y, test_size=0.2,stratify=y)\n",
        "\n",
        "print('training data has %d observation with %d features'% X_train.shape) \n",
        "print('test data has %d observation with %d features'% X_test.shape)"
      ],
      "execution_count": 57,
      "outputs": [
        {
          "output_type": "stream",
          "text": [
            "training data has 8000 observation with 12 features\n",
            "test data has 2000 observation with 12 features\n"
          ],
          "name": "stdout"
        }
      ]
    },
    {
      "cell_type": "code",
      "metadata": {
        "id": "JuPhtUkJi0NW"
      },
      "source": [
        "# Scale the data, using standardization\n",
        "# https://scikit-learn.org/stable/auto_examples/preprocessing/plot_all_scaling.html#sphx-glr-auto-examples-preprocessing-plot-all-scaling-py\n",
        "# https://scikit-learn.org/stable/modules/preprocessing.html\n",
        "\n",
        "from sklearn.preprocessing import StandardScaler\n",
        "# training data--we did the fit transform, based on its mean and sd\n",
        "scalar=StandardScaler() # get the mean/sd from X_train\n",
        "X_train_scaled = scalar.fit_transform(X_train)\n",
        "X_test_scaled = scalar.transform(X_test)\n",
        "\n",
        "# max-min training is scalar=MinMaxScaler()"
      ],
      "execution_count": 58,
      "outputs": []
    },
    {
      "cell_type": "markdown",
      "metadata": {
        "id": "c4UTtCQTi0Nl"
      },
      "source": [
        "### Part 3.2: Model Training and Selection"
      ]
    },
    {
      "cell_type": "code",
      "metadata": {
        "id": "EAhSxINLi0Nl",
        "cellView": "code"
      },
      "source": [
        "#@title build models\n",
        "from sklearn.ensemble import RandomForestClassifier\n",
        "from sklearn.neighbors import KNeighborsClassifier \n",
        "from sklearn.linear_model import LogisticRegression\n",
        "\n",
        "# Logistic Regression\n",
        "classifier_logistic = LogisticRegression()\n",
        "# K Nearest Neighbors\n",
        "classifier_KNN = KNeighborsClassifier()\n",
        "# Random Forest\n",
        "classifier_RF = RandomForestClassifier()"
      ],
      "execution_count": 24,
      "outputs": []
    },
    {
      "cell_type": "markdown",
      "metadata": {
        "id": "5IrrP5Txl3LH"
      },
      "source": [
        "Run each ML model once to get the intuition"
      ]
    },
    {
      "cell_type": "code",
      "metadata": {
        "id": "Av0IRSoBQ3pe",
        "outputId": "6e23ed89-2729-4fcf-ed0f-875fe0ae2926",
        "colab": {
          "base_uri": "https://localhost:8080/",
          "height": 68
        }
      },
      "source": [
        "## LR\n",
        "# Train the model\n",
        "classifier_logistic.fit(X_train_scaled, y_train)\n",
        "# Accuracy of test data\n",
        "print(\"The Accuracy of logistic Regression Model is %f\"%classifier_logistic.score(X_test, y_test))\n",
        "\n",
        "# KNN\n",
        "# Train the model\n",
        "classifier_KNN.fit(X_train_scaled, y_train)\n",
        "# Accuracy of test data\n",
        "print(\"The Accuracy of KNN is %f\"%classifier_KNN.score(X_test, y_test))\n",
        "\n",
        "\n",
        "# RF\n",
        "# Train the model\n",
        "classifier_RF.fit(X_train, y_train)\n",
        "# Accuracy of test data\n",
        "print(\"The Accuracy of Random Forest Model is %f\"%classifier_RF.score(X_test, y_test))"
      ],
      "execution_count": 59,
      "outputs": [
        {
          "output_type": "stream",
          "text": [
            "The Accuracy of logistic Regression Model is 0.203500\n",
            "The Accuracy of KNN is 0.479500\n",
            "The Accuracy of Random Forest Model is 0.862000\n"
          ],
          "name": "stdout"
        }
      ]
    },
    {
      "cell_type": "markdown",
      "metadata": {
        "id": "7J-23z78i0Ns"
      },
      "source": [
        "### Part 3.3: Use Grid Search to Find Optimal Hyperparameters"
      ]
    },
    {
      "cell_type": "markdown",
      "metadata": {
        "id": "D4GQmu4X5HAS"
      },
      "source": [
        "Here the scoring method is recall, since recall is the criterion of interset."
      ]
    },
    {
      "cell_type": "code",
      "metadata": {
        "id": "Hpe9PEAAi0Nt"
      },
      "source": [
        "# hyperparameters in RF\n",
        "# https://scikit-learn.org/stable/modules/generated/sklearn.ensemble.RandomForestClassifier.html\n",
        "\n",
        "from sklearn.model_selection import GridSearchCV\n",
        "\n",
        "# helper function for printing out grid search results \n",
        "def print_grid_search_metrics(gs):\n",
        "    print (\"Best score: %0.3f\" % gs.best_score_)\n",
        "    print (\"Best parameters set:\")\n",
        "    best_parameters = gs.best_params_\n",
        "    for param_name in sorted(parameters.keys()):\n",
        "        print(\"\\t%s: %s\" % (param_name, best_parameters[param_name]))\n",
        "# %s -- string, %r -- useful for printing a string of unknown encoding"
      ],
      "execution_count": 26,
      "outputs": []
    },
    {
      "cell_type": "markdown",
      "metadata": {
        "id": "qvYo9I5Ti0Nv"
      },
      "source": [
        "#### Part 3.3.1: Find Optimal Hyperparameters - LogisticRegression"
      ]
    },
    {
      "cell_type": "markdown",
      "metadata": {
        "id": "LLIbWq637cAn"
      },
      "source": [
        "even though we are interested in recall, when training the model, it is tricky.\n",
        "for recall , TP/(TP+FN), in extreme cases that we consider all participants are churned, then the recall=100%. However, the accuracy will get lower to like 20% . Because in the raw data, 20% of the customered exited the program.\n",
        "\n",
        "On the other hand, accuracy is not a very good measure either, sicne our data is imbalanced. So if we just use accruacy, then in the extreme cases, if we speciify all our clients as not churend, then we still get 80% accuracy.\n",
        "\n",
        "In this case, I will choose AUC as our evaluation criterion (not to overfit a single class). "
      ]
    },
    {
      "cell_type": "code",
      "metadata": {
        "scrolled": true,
        "id": "wOc48syxi0Nx",
        "outputId": "842e9b30-f00c-4877-e9b6-182ac58c3ccb",
        "colab": {
          "base_uri": "https://localhost:8080/",
          "height": 85
        }
      },
      "source": [
        "# Possible hyperparamter options for Logistic Regression Regularization\n",
        "# l1,l2 norm\n",
        "# C: 1/lambda \n",
        "parameters = {\n",
        "    'penalty':('l1', 'l2'), \n",
        "    'C':(1, 5, 10)\n",
        "}\n",
        "\n",
        "Grid_LR = GridSearchCV(LogisticRegression(solver='liblinear'),parameters, cv=5, scoring = 'roc_auc')\n",
        "Grid_LR.fit(X_train_scaled, y_train)\n",
        "\n",
        "# the best hyperparameter combination\n",
        "print_grid_search_metrics(Grid_LR)"
      ],
      "execution_count": 64,
      "outputs": [
        {
          "output_type": "stream",
          "text": [
            "Best score: 0.762\n",
            "Best parameters set:\n",
            "\tC: 1\n",
            "\tpenalty: l1\n"
          ],
          "name": "stdout"
        }
      ]
    },
    {
      "cell_type": "code",
      "metadata": {
        "id": "TtkDsXgui0N3"
      },
      "source": [
        "# save the best model parameters \n",
        "best_LR_model = Grid_LR.best_estimator_"
      ],
      "execution_count": 61,
      "outputs": []
    },
    {
      "cell_type": "markdown",
      "metadata": {
        "id": "9u9YFedOi0N6"
      },
      "source": [
        "#### Part 3.3.2: Find Optimal Hyperparameters: KNN"
      ]
    },
    {
      "cell_type": "code",
      "metadata": {
        "id": "o78422XVi0N6",
        "outputId": "d3470f8e-54cb-4d3d-f459-66ad3cfcc969",
        "colab": {
          "base_uri": "https://localhost:8080/",
          "height": 68
        }
      },
      "source": [
        "# Choose number of neighbors\n",
        "parameters = {\n",
        "    'n_neighbors':[3,5,7,10] \n",
        "}\n",
        "Grid_KNN = GridSearchCV(KNeighborsClassifier(),parameters, cv=5, scoring = 'roc_auc')\n",
        "Grid_KNN.fit(X_train_scaled, y_train)\n",
        "\n",
        "# best k\n",
        "print_grid_search_metrics(Grid_KNN)"
      ],
      "execution_count": 65,
      "outputs": [
        {
          "output_type": "stream",
          "text": [
            "Best score: 0.797\n",
            "Best parameters set:\n",
            "\tn_neighbors: 10\n"
          ],
          "name": "stdout"
        }
      ]
    },
    {
      "cell_type": "code",
      "metadata": {
        "id": "D2YWQqB6wMWm"
      },
      "source": [
        "# save the best model paraemters\n",
        "best_KNN_model=Grid_KNN.best_estimator_"
      ],
      "execution_count": 66,
      "outputs": []
    },
    {
      "cell_type": "markdown",
      "metadata": {
        "id": "nKn_oKLSi0OB"
      },
      "source": [
        "#### Part 3.3.3: Find Optimal Hyperparameters: Random Forest"
      ]
    },
    {
      "cell_type": "code",
      "metadata": {
        "id": "NniAZIPfi0OC",
        "outputId": "ba315517-8cc9-4cfb-ec66-3581b5a9ae3c",
        "colab": {
          "base_uri": "https://localhost:8080/",
          "height": 68
        }
      },
      "source": [
        "# Possible hyperparamter options for Random Forest\n",
        "# Choose the number of trees\n",
        "parameters = {\n",
        "    'n_estimators' : [20,40,60,80]\n",
        "}\n",
        "Grid_RF = GridSearchCV(RandomForestClassifier(),parameters, cv=5, scoring = 'roc_auc')\n",
        "Grid_RF.fit(X_train, y_train)\n",
        "\n",
        "# best number of tress\n",
        "print_grid_search_metrics(Grid_RF)"
      ],
      "execution_count": 67,
      "outputs": [
        {
          "output_type": "stream",
          "text": [
            "Best score: 0.856\n",
            "Best parameters set:\n",
            "\tn_estimators: 80\n"
          ],
          "name": "stdout"
        }
      ]
    },
    {
      "cell_type": "code",
      "metadata": {
        "id": "xJgfri_Mi0OG"
      },
      "source": [
        "# best random forest\n",
        "best_RF_model = Grid_RF.best_estimator_"
      ],
      "execution_count": 68,
      "outputs": []
    },
    {
      "cell_type": "markdown",
      "metadata": {
        "id": "xxDAOrGIi0OI"
      },
      "source": [
        "### Part 3.4: Model Evaluation using Confusion Matrix (Precision, Recall, Accuracy)\n",
        "\n",
        "exited:1 (churn) 0 (not churn)\n",
        "\n",
        "TP: correctly labeled real churn\n",
        "\n",
        "Precision(PPV, positive predictive value): tp / (tp + fp);\n",
        "Total number of true predictive churn divided by the total number of predictive churn;\n",
        "High Precision means low fp, not many return users were predicted as churn users. \n",
        "\n",
        "Recall(sensitivity, hit rate, true positive rate): tp / (tp + fn)\n",
        "Predict most postive or churn user correctly. High recall means low fn, not many churn users were predicted as return users.\n",
        "\n",
        "In this situation, recall is more important than precision"
      ]
    },
    {
      "cell_type": "code",
      "metadata": {
        "id": "o-tP94iFi0OI"
      },
      "source": [
        "from sklearn.metrics import confusion_matrix\n",
        "from sklearn.metrics import classification_report\n",
        "from sklearn.metrics import precision_score\n",
        "from sklearn.metrics import recall_score\n",
        "\n",
        "# calculate accuracy, precision and recall\n",
        "def cal_evaluation(classifier, cm):\n",
        "    tn = cm[0][0]\n",
        "    fp = cm[0][1]\n",
        "    fn = cm[1][0]\n",
        "    tp = cm[1][1]\n",
        "    accuracy  = (tp + tn) / (tp + fp + fn + tn + 0.0)\n",
        "    precision = tp / (tp + fp + 0.0)\n",
        "    recall = tp / (tp + fn + 0.0)\n",
        "    print (classifier)\n",
        "    print (\"Accuracy is: %0.3f\" % accuracy)\n",
        "    print (\"precision is: %0.3f\" % precision)\n",
        "    print (\"recall is: %0.3f\" % recall) # the criterion we are interested in \n",
        "\n",
        "# print out confusion matrices\n",
        "def draw_confusion_matrices(confusion_matricies):\n",
        "    class_names = ['Not','Churn']\n",
        "    for cm in confusion_matrices:\n",
        "        classifier, cm = cm[0], cm[1]\n",
        "        cal_evaluation(classifier, cm)\n",
        "        fig = plt.figure()\n",
        "        ax = fig.add_subplot(111)\n",
        "        cax = ax.matshow(cm, interpolation='nearest',cmap=plt.get_cmap('Reds'))\n",
        "        plt.title('Confusion matrix for %s' % classifier)\n",
        "        fig.colorbar(cax)\n",
        "        ax.set_xticklabels([''] + class_names)\n",
        "        ax.set_yticklabels([''] + class_names)\n",
        "        plt.xlabel('Predicted')\n",
        "        plt.ylabel('True')\n",
        "        plt.show()"
      ],
      "execution_count": 69,
      "outputs": []
    },
    {
      "cell_type": "code",
      "metadata": {
        "id": "OpSGaN49i0OL",
        "outputId": "73160ebf-3593-4c2b-b8cf-a175509ce0e1",
        "colab": {
          "base_uri": "https://localhost:8080/",
          "height": 1000
        }
      },
      "source": [
        "# the sequence: true value first， and the prediction\n",
        "# Confusion matrix, accuracy, precison and recall for random forest and logistic regression\n",
        "confusion_matrices = [\n",
        "    (\"Logistic Regression\", confusion_matrix(y_test,best_LR_model.predict(X_test))),\n",
        "    (\"K Nearest Neighbour\", confusion_matrix(y_test,best_KNN_model.predict(X_test))),\n",
        "    (\"Random Forest\", confusion_matrix(y_test,best_RF_model.predict(X_test)))\n",
        "]\n",
        "\n",
        "draw_confusion_matrices(confusion_matrices)"
      ],
      "execution_count": 70,
      "outputs": [
        {
          "output_type": "stream",
          "text": [
            "Logistic Regression\n",
            "Accuracy is: 0.808\n",
            "precision is: 0.588\n",
            "recall is: 0.197\n"
          ],
          "name": "stdout"
        },
        {
          "output_type": "display_data",
          "data": {
            "image/png": "[encoded data removed]",
            "text/plain": [
              "<Figure size 432x288 with 2 Axes>"
            ]
          },
          "metadata": {
            "tags": [],
            "needs_background": "light"
          }
        },
        {
          "output_type": "stream",
          "text": [
            "K Nearest Neighbour\n",
            "Accuracy is: 0.715\n",
            "precision is: 0.269\n",
            "recall is: 0.233\n"
          ],
          "name": "stdout"
        },
        {
          "output_type": "display_data",
          "data": {
            "image/png": "[encoded data removed]",
            "text/plain": [
              "<Figure size 432x288 with 2 Axes>"
            ]
          },
          "metadata": {
            "tags": [],
            "needs_background": "light"
          }
        },
        {
          "output_type": "stream",
          "text": [
            "Random Forest\n",
            "Accuracy is: 0.863\n",
            "precision is: 0.767\n",
            "recall is: 0.469\n"
          ],
          "name": "stdout"
        },
        {
          "output_type": "display_data",
          "data": {
            "image/png": "[encoded data removed]",
            "text/plain": [
              "<Figure size 432x288 with 2 Axes>"
            ]
          },
          "metadata": {
            "tags": [],
            "needs_background": "light"
          }
        }
      ]
    },
    {
      "cell_type": "markdown",
      "metadata": {
        "id": "OvHlyhPBi0OT"
      },
      "source": [
        "### Part 3.4: Model Evaluation - ROC & AUC"
      ]
    },
    {
      "cell_type": "markdown",
      "metadata": {
        "id": "-Os_ZLTvi0OX"
      },
      "source": [
        "#### Part 3.4.1: ROC of RF Model"
      ]
    },
    {
      "cell_type": "code",
      "metadata": {
        "id": "UypvQMVBi0OY"
      },
      "source": [
        "from sklearn.metrics import roc_curve\n",
        "from sklearn import metrics\n",
        "\n",
        "# Use predict_proba to get the probability results of Random Forest\n",
        "y_pred_rf = best_RF_model.predict_proba(X_test)[:, 1]\n",
        "fpr_rf, tpr_rf, _ = roc_curve(y_test, y_pred_rf)"
      ],
      "execution_count": 71,
      "outputs": []
    },
    {
      "cell_type": "code",
      "metadata": {
        "id": "s_B-UOnsgKPC",
        "outputId": "393b19fc-c18f-4dfe-c7a2-6cdce56dcf0e",
        "colab": {
          "base_uri": "https://localhost:8080/",
          "height": 136
        }
      },
      "source": [
        "best_RF_model.predict_proba(X_test) # predict class probability"
      ],
      "execution_count": 72,
      "outputs": [
        {
          "output_type": "execute_result",
          "data": {
            "text/plain": [
              "array([[0.9   , 0.1   ],\n",
              "       [0.825 , 0.175 ],\n",
              "       [0.9875, 0.0125],\n",
              "       ...,\n",
              "       [0.8375, 0.1625],\n",
              "       [0.825 , 0.175 ],\n",
              "       [0.7125, 0.2875]])"
            ]
          },
          "metadata": {
            "tags": []
          },
          "execution_count": 72
        }
      ]
    },
    {
      "cell_type": "code",
      "metadata": {
        "id": "s3PR-PdPi0Ob",
        "outputId": "f0be350e-b545-45aa-ceaf-a67274058af1",
        "colab": {
          "base_uri": "https://localhost:8080/",
          "height": 295
        }
      },
      "source": [
        "# ROC curve of Random Forest result\n",
        "plt.figure(1)\n",
        "plt.plot([0, 1], [0, 1], 'k--')\n",
        "plt.plot(fpr_rf, tpr_rf, label='RF')\n",
        "plt.xlabel('False positive rate')\n",
        "plt.ylabel('True positive rate')\n",
        "plt.title('ROC curve - RF model')\n",
        "plt.legend(loc='best')\n",
        "plt.show()"
      ],
      "execution_count": 73,
      "outputs": [
        {
          "output_type": "display_data",
          "data": {
            "image/png": "[encoded data removed]",
            "text/plain": [
              "<Figure size 432x288 with 1 Axes>"
            ]
          },
          "metadata": {
            "tags": [],
            "needs_background": "light"
          }
        }
      ]
    },
    {
      "cell_type": "code",
      "metadata": {
        "id": "R89IUMYDi0Oe",
        "outputId": "9220502b-ef76-4ca9-bfd1-05b3207f39cc",
        "colab": {
          "base_uri": "https://localhost:8080/",
          "height": 34
        }
      },
      "source": [
        "from sklearn import metrics\n",
        "\n",
        "# AUC score -- area under curve\n",
        "metrics.auc(fpr_rf,tpr_rf)"
      ],
      "execution_count": 74,
      "outputs": [
        {
          "output_type": "execute_result",
          "data": {
            "text/plain": [
              "0.839341652900975"
            ]
          },
          "metadata": {
            "tags": []
          },
          "execution_count": 74
        }
      ]
    },
    {
      "cell_type": "markdown",
      "metadata": {
        "id": "-1DVqnJVi0Oh"
      },
      "source": [
        "#### Part 3.4.1: ROC of LR Model"
      ]
    },
    {
      "cell_type": "code",
      "metadata": {
        "id": "t-q5XJPoi0Oi"
      },
      "source": [
        "# Use predict_proba to get the probability results of Logistic Regression\n",
        "y_pred_lr = best_LR_model.predict_proba(X_test_scaled)[:, 1]\n",
        "fpr_lr, tpr_lr, _ = roc_curve(y_test, y_pred_lr)"
      ],
      "execution_count": 75,
      "outputs": []
    },
    {
      "cell_type": "code",
      "metadata": {
        "id": "m822jBJggVzp",
        "outputId": "fc01c4b8-83e5-43ed-910d-56d14f3d293c",
        "colab": {
          "base_uri": "https://localhost:8080/",
          "height": 136
        }
      },
      "source": [
        "best_LR_model.predict_proba(X_test_scaled)"
      ],
      "execution_count": 76,
      "outputs": [
        {
          "output_type": "execute_result",
          "data": {
            "text/plain": [
              "array([[0.82336016, 0.17663984],\n",
              "       [0.93031261, 0.06968739],\n",
              "       [0.70040958, 0.29959042],\n",
              "       ...,\n",
              "       [0.9575283 , 0.0424717 ],\n",
              "       [0.85316473, 0.14683527],\n",
              "       [0.93526272, 0.06473728]])"
            ]
          },
          "metadata": {
            "tags": []
          },
          "execution_count": 76
        }
      ]
    },
    {
      "cell_type": "code",
      "metadata": {
        "id": "KZSrN-1Mi0Ok",
        "outputId": "91fdd4e2-f5d8-4fe7-d16a-54962203ea41",
        "colab": {
          "base_uri": "https://localhost:8080/",
          "height": 295
        }
      },
      "source": [
        "# ROC Curve\n",
        "plt.figure(1)\n",
        "plt.plot([0, 1], [0, 1], 'k--')\n",
        "plt.plot(fpr_lr, tpr_lr, label='LR')\n",
        "plt.xlabel('False positive rate')\n",
        "plt.ylabel('True positive rate')\n",
        "plt.title('ROC curve - LR Model')\n",
        "plt.legend(loc='best')\n",
        "plt.show()"
      ],
      "execution_count": 77,
      "outputs": [
        {
          "output_type": "display_data",
          "data": {
            "image/png": "[encoded data removed]",
            "text/plain": [
              "<Figure size 432x288 with 1 Axes>"
            ]
          },
          "metadata": {
            "tags": [],
            "needs_background": "light"
          }
        }
      ]
    },
    {
      "cell_type": "code",
      "metadata": {
        "id": "LHAyxishi0On",
        "outputId": "fb0d3351-44b3-4769-fcad-5b56f53064d2",
        "colab": {
          "base_uri": "https://localhost:8080/",
          "height": 34
        }
      },
      "source": [
        "# AUC score\n",
        "metrics.auc(fpr_lr,tpr_lr)"
      ],
      "execution_count": 78,
      "outputs": [
        {
          "output_type": "execute_result",
          "data": {
            "text/plain": [
              "0.6915790983587593"
            ]
          },
          "metadata": {
            "tags": []
          },
          "execution_count": 78
        }
      ]
    },
    {
      "cell_type": "markdown",
      "metadata": {
        "id": "gHHurD8Ii0Oq"
      },
      "source": [
        "# Part 4: Feature Selection"
      ]
    },
    {
      "cell_type": "markdown",
      "metadata": {
        "id": "dSx4TPO-i0Or"
      },
      "source": [
        "### Part 4.1:  Logistic Regression Model - Feature Selection Discussion "
      ]
    },
    {
      "cell_type": "markdown",
      "metadata": {
        "id": "BtLHUixoi0Ot"
      },
      "source": [
        "The correlated features that we are interested in:"
      ]
    },
    {
      "cell_type": "code",
      "metadata": {
        "id": "RyCeKtjDhJYu"
      },
      "source": [
        "import numpy as np\n",
        "\n",
        "X_with_corr=X.copy()\n",
        "X_with_corr['SalaryInRMB']=X['EstimatedSalary']*6.94"
      ],
      "execution_count": 79,
      "outputs": []
    },
    {
      "cell_type": "code",
      "metadata": {
        "scrolled": true,
        "id": "cQaXOIsUi0Ou",
        "outputId": "04d717cf-9bf3-4348-d82c-d720a3cc6e4e",
        "colab": {
          "base_uri": "https://localhost:8080/",
          "height": 255
        }
      },
      "source": [
        "# add L1 regularization to logistic regression\n",
        "# check the coef for feature selection\n",
        "# L1-LASSO L2-RIDGE\n",
        "scaler = StandardScaler()\n",
        "X_l1 = scaler.fit_transform(X_with_corr)\n",
        "LRmodel_l1 = LogisticRegression(penalty=\"l1\", C = 0.1,solver=\"liblinear\") # if default solver lbfgs only suppports L2 or none  \n",
        "# see document :https://scikit-learn.org/stable/modules/generated/sklearn.linear_model.LogisticRegression.html\n",
        "LRmodel_l1.fit(X_l1, y)\n",
        "\n",
        "indices=np.argsort(abs(LRmodel_l1.coef_[0]))[::-1] # sort by value from largest to smallest, the return values are the index \n",
        "\n",
        "print (\"Logistic Regression (L1) Coefficients\")\n",
        "for ind in indices:\n",
        "    print (\"{0}: {1}\".format(X_with_corr.columns[indices[ind]],round(LRmodel_l1.coef_[0][indices[ind]],4)))"
      ],
      "execution_count": 80,
      "outputs": [
        {
          "output_type": "stream",
          "text": [
            "Logistic Regression (L1) Coefficients\n",
            "Geography_Germany: 0.3171\n",
            "Tenure: -0.0384\n",
            "Geography_France: -0.0123\n",
            "IsActiveMember: -0.524\n",
            "Balance: 0.159\n",
            "Age: 0.7495\n",
            "CreditScore: -0.0569\n",
            "Gender: 0.2541\n",
            "EstimatedSalary: 0.0201\n",
            "NumOfProducts: -0.0529\n",
            "HasCrCard: -0.013\n",
            "Geography_Spain: 0.0\n",
            "SalaryInRMB: 0.0\n"
          ],
          "name": "stdout"
        }
      ]
    },
    {
      "cell_type": "code",
      "metadata": {
        "id": "4zpb5JQboebM",
        "outputId": "9ee6c935-2227-4fcb-9c41-4daf144f8b34",
        "colab": {
          "base_uri": "https://localhost:8080/",
          "height": 68
        }
      },
      "source": [
        "scaler = StandardScaler()\n",
        "X_l2 = scaler.fit_transform(X_with_corr)\n",
        "LRmodel_l2 = LogisticRegression(penalty=\"l2\", C = 0.1,solver='liblinear')\n",
        "LRmodel_l2.fit(X_l2, y)\n",
        "LRmodel_l2.coef_[0]"
      ],
      "execution_count": 82,
      "outputs": [
        {
          "output_type": "execute_result",
          "data": {
            "text/plain": [
              "array([-0.06367794,  0.25913053,  0.75099022, -0.04520424,  0.16199493,\n",
              "       -0.0585934 , -0.01993898, -0.52716425,  0.01367085, -0.12070832,\n",
              "        0.22788348, -0.08904964,  0.01367085])"
            ]
          },
          "metadata": {
            "tags": []
          },
          "execution_count": 82
        }
      ]
    },
    {
      "cell_type": "code",
      "metadata": {
        "id": "majifZZqi0O9",
        "outputId": "dcc313aa-a26e-4980-d0e8-189db7fe9654",
        "colab": {
          "base_uri": "https://localhost:8080/",
          "height": 255
        }
      },
      "source": [
        "# add L2 regularization to logistic regression\n",
        "# check the coef for feature selection\n",
        "scaler = StandardScaler()\n",
        "X_l2 = scaler.fit_transform(X_with_corr)\n",
        "LRmodel_l2 = LogisticRegression(penalty=\"l2\", C = 0.1,solver='liblinear')\n",
        "LRmodel_l2.fit(X_l2, y)\n",
        "LRmodel_l2.coef_[0]\n",
        "\n",
        "indices = np.argsort(abs(LRmodel_l2.coef_[0]))[::-1]\n",
        "\n",
        "print (\"Logistic Regression (L2) Coefficients\")\n",
        "for ind in indices:\n",
        "    print (\"{0}:{1}\".format(X_with_corr.columns[indices[ind]],round(LRmodel_l2.coef_[0][indices[ind]],4)))\n",
        "  "
      ],
      "execution_count": 83,
      "outputs": [
        {
          "output_type": "stream",
          "text": [
            "Logistic Regression (L2) Coefficients\n",
            "Gender:0.2591\n",
            "CreditScore:-0.0637\n",
            "IsActiveMember:-0.5272\n",
            "HasCrCard:-0.0199\n",
            "Balance:0.162\n",
            "Tenure:-0.0452\n",
            "EstimatedSalary:0.0137\n",
            "Age:0.751\n",
            "Geography_France:-0.1207\n",
            "Geography_Germany:0.2279\n",
            "Geography_Spain:-0.089\n",
            "NumOfProducts:-0.0586\n",
            "SalaryInRMB:0.0137\n"
          ],
          "name": "stdout"
        }
      ]
    },
    {
      "cell_type": "markdown",
      "metadata": {
        "id": "uqs41ydLi0O_"
      },
      "source": [
        "### Part 4.2:  Random Forest Model - Feature Importance Discussion"
      ]
    },
    {
      "cell_type": "code",
      "metadata": {
        "id": "MPxUM2lei0PA",
        "outputId": "5159af2c-b13a-415a-ed2a-8eb5646939b4",
        "colab": {
          "base_uri": "https://localhost:8080/",
          "height": 238
        }
      },
      "source": [
        "# check feature importance of random forest for feature selection\n",
        "forest = RandomForestClassifier()\n",
        "forest.fit(X, y)\n",
        "\n",
        "importances = forest.feature_importances_\n",
        "\n",
        "indices=np.argsort(importances)[::-1]\n",
        "\n",
        "# Print the feature ranking\n",
        "print(\"Feature importance ranking by Random Forest Model:\")\n",
        "for ind in range(X.shape[1]):\n",
        "    print (\"{0}:{1}\".format(X.columns[indices[ind]],round(importances[indices[ind]],4)))"
      ],
      "execution_count": 84,
      "outputs": [
        {
          "output_type": "stream",
          "text": [
            "Feature importance ranking by Random Forest Model:\n",
            "Age:0.2424\n",
            "EstimatedSalary:0.1478\n",
            "CreditScore:0.1445\n",
            "Balance:0.1427\n",
            "NumOfProducts:0.1285\n",
            "Tenure:0.0808\n",
            "IsActiveMember:0.0385\n",
            "Geography_Germany:0.0206\n",
            "HasCrCard:0.0178\n",
            "Gender:0.0176\n",
            "Geography_France:0.0101\n",
            "Geography_Spain:0.0089\n"
          ],
          "name": "stdout"
        }
      ]
    },
    {
      "cell_type": "markdown",
      "metadata": {
        "id": "MgKhKsFWppZl"
      },
      "source": [
        "The previous results show that age is the main feature that affects customers' churn. \n",
        "\n",
        "If we go back to the boxplot, we noticed that the people averaged over 45 years old has more tendancy to churn comparing to the younger group. "
      ]
    }
  ]
}