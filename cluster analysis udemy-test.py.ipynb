{
 "cells": [
  {
   "cell_type": "code",
   "execution_count": 1,
   "metadata": {},
   "outputs": [
    {
     "name": "stderr",
     "output_type": "stream",
     "text": [
      "/Users/sherry/anaconda3/lib/python3.7/site-packages/matplotlib/font_manager.py:232: UserWarning: Matplotlib is building the font cache using fc-list. This may take a moment.\n",
      "  'Matplotlib is building the font cache using fc-list. '\n"
     ]
    }
   ],
   "source": [
    "import numpy as np\n",
    "import matplotlib.pyplot as plt"
   ]
  },
  {
   "cell_type": "code",
   "execution_count": null,
   "metadata": {},
   "outputs": [],
   "source": [
    "def plot_k_means(X,K, max_iter=20,beta=1.0):\n",
    "    N,D=X.shape\n",
    "    M=np.zeros((K,D))\n",
    "    R=np.zeros(N,K)\n",
    "    \n",
    "    for k in xrange(K):\n",
    "        M[k]=X[m[np.random.choice(N)]]\n",
    "    \n",
    "    costs=np.zeros(max_iter)\n",
    "    for i in xrange(max_iter):\n",
    "        for k in xrange(K):\n",
    "            for n in xrange(N):\n",
    "                R[n,k]=np.exp(-beta*d(M[k],X[n]))/np.sum(np.exp(-beta*d[M[j],X[n]])) for j in xrange(K) # the distance function\n",
    "        for k in xrange(K):\n",
    "            M[k]=R[:,k].dot(X)/R[:,k].sum()\n",
    "        costs[]\n",
    "                \n",
    "def main():\n",
    "    D =2\n",
    "    S =4\n",
    "    mu1=np.array([0,0])\n",
    "    mu2=np.array([s,s])\n",
    "    mu3=np.array([0,s])\n",
    "    \n",
    "    N=900\n",
    "    X=np.zeros((N,D)) # N by D matrix\n",
    "    X[:300,:]=np.random.randn(300,D)+mu1  # randn -- random noise\n",
    "    X[300:600,:]=np.random.randn(300,D)+mu2\n",
    "    X[600:,:]=np.random.randn(300,D)+mu3\n",
    "    \n",
    "    plt.scatter(X[:,0],X[:,1])\n",
    "    plt.show()\n",
    "    \n",
    "    K=3 # the correct number\n",
    "    plot_k_means(X,K)\n",
    "    \n",
    "    K=5 # the incorrect number of clusters\n",
    "    plot_k_means(X,K,mat_iter=30)\n",
    "    \n",
    "    K=5\n",
    "    plot_k_means(X,K,max_iter=30,beta=0.3) # change the beta variales ? what is the beta variables\n",
    "    \n",
    "    "
   ]
  }
 ],
 "metadata": {
  "kernelspec": {
   "display_name": "Python 3",
   "language": "python",
   "name": "python3"
  },
  "language_info": {
   "codemirror_mode": {
    "name": "ipython",
    "version": 3
   },
   "file_extension": ".py",
   "mimetype": "text/x-python",
   "name": "python",
   "nbconvert_exporter": "python",
   "pygments_lexer": "ipython3",
   "version": "3.7.1"
  }
 },
 "nbformat": 4,
 "nbformat_minor": 2
}
